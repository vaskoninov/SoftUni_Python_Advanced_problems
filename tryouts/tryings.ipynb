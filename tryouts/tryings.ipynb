{
 "cells": [
  {
   "cell_type": "code",
   "execution_count": null,
   "outputs": [],
   "source": [
    "from collections import deque\n",
    "\n",
    "numbers = deque()\n",
    "\n",
    "mapper = {\n",
    "    1: lambda x: numbers.append(x[1]),\n",
    "    2: lambda x: numbers.pop() if numbers else None,\n",
    "    3: lambda x: print(max(numbers)) if numbers else None,\n",
    "    4: lambda x: print(min(numbers)) if numbers else None,\n",
    "}\n",
    "\n",
    "for _ in range(int(input())):\n",
    "    data = [int(x) for x in input().split()]\n",
    "    mapper[data[0]](data)\n",
    "\n",
    "numbers.reverse()\n",
    "print(*numbers, sep=\", \")"
   ],
   "metadata": {
    "collapsed": false
   }
  }
 ],
 "metadata": {
  "kernelspec": {
   "display_name": "Python 3",
   "language": "python",
   "name": "python3"
  },
  "language_info": {
   "codemirror_mode": {
    "name": "ipython",
    "version": 2
   },
   "file_extension": ".py",
   "mimetype": "text/x-python",
   "name": "python",
   "nbconvert_exporter": "python",
   "pygments_lexer": "ipython2",
   "version": "2.7.6"
  }
 },
 "nbformat": 4,
 "nbformat_minor": 0
}
